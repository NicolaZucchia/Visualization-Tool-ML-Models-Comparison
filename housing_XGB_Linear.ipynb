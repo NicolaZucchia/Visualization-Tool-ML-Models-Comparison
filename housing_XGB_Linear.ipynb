{
 "cells": [
  {
   "cell_type": "code",
   "execution_count": 1,
   "metadata": {},
   "outputs": [
    {
     "name": "stderr",
     "output_type": "stream",
     "text": [
      "c:\\Users\\Nicol\\anaconda3\\envs\\tensorflow\\lib\\site-packages\\tqdm\\auto.py:22: TqdmWarning: IProgress not found. Please update jupyter and ipywidgets. See https://ipywidgets.readthedocs.io/en/stable/user_install.html\n",
      "  from .autonotebook import tqdm as notebook_tqdm\n",
      "Function load_boston is deprecated; `load_boston` is deprecated in 1.0 and will be removed in 1.2.\n",
      "\n",
      "    The Boston housing prices dataset has an ethical problem. You can refer to\n",
      "    the documentation of this function for further details.\n",
      "\n",
      "    The scikit-learn maintainers therefore strongly discourage the use of this\n",
      "    dataset unless the purpose of the code is to study and educate about\n",
      "    ethical issues in data science and machine learning.\n",
      "\n",
      "    In this special case, you can fetch the dataset from the original\n",
      "    source::\n",
      "\n",
      "        import pandas as pd\n",
      "        import numpy as np\n",
      "\n",
      "\n",
      "        data_url = \"http://lib.stat.cmu.edu/datasets/boston\"\n",
      "        raw_df = pd.read_csv(data_url, sep=\"\\s+\", skiprows=22, header=None)\n",
      "        data = np.hstack([raw_df.values[::2, :], raw_df.values[1::2, :2]])\n",
      "        target = raw_df.values[1::2, 2]\n",
      "\n",
      "    Alternative datasets include the California housing dataset (i.e.\n",
      "    :func:`~sklearn.datasets.fetch_california_housing`) and the Ames housing\n",
      "    dataset. You can load the datasets as follows::\n",
      "\n",
      "        from sklearn.datasets import fetch_california_housing\n",
      "        housing = fetch_california_housing()\n",
      "\n",
      "    for the California housing dataset and::\n",
      "\n",
      "        from sklearn.datasets import fetch_openml\n",
      "        housing = fetch_openml(name=\"house_prices\", as_frame=True)\n",
      "\n",
      "    for the Ames housing dataset.\n",
      "    \n",
      "ntree_limit is deprecated, use `iteration_range` or model slicing instead.\n"
     ]
    }
   ],
   "source": [
    "import xgboost\n",
    "import shap\n",
    "from sklearn.linear_model import LinearRegression\n",
    "\n",
    "# train two models\n",
    "X, y = shap.datasets.boston()\n",
    "model1 = xgboost.XGBRegressor(random_state=42).fit(X, y)\n",
    "model2 = LinearRegression().fit(X, y)\n",
    "preds1 = model1.predict(X)\n",
    "preds2 = model2.predict(X)\n",
    "# explain the models' predictions using SHAP\n",
    "# (same syntax works for LightGBM, CatBoost, scikit-learn, transformers, Spark, etc.)\n",
    "explainer1 = shap.Explainer(model1)\n",
    "shap_values1 = explainer1(X)\n",
    "explainer2 = shap.LinearExplainer(model2,X)\n",
    "shap_values2 = explainer2(X)\n"
   ]
  },
  {
   "cell_type": "code",
   "execution_count": 2,
   "metadata": {},
   "outputs": [
    {
     "name": "stdout",
     "output_type": "stream",
     "text": [
      "Epoch 1/50\n",
      " 1/13 [=>............................] - ETA: 0s - loss: 2236.0933WARNING:tensorflow:Callbacks method `on_train_batch_end` is slow compared to the batch time (batch time: 0.0000s vs `on_train_batch_end` time: 0.0156s). Check your callbacks.\n",
      "13/13 [==============================] - 0s 3ms/step - loss: 1126.0206\n",
      "Epoch 2/50\n",
      "13/13 [==============================] - 0s 1ms/step - loss: 381.1656\n",
      "Epoch 3/50\n",
      "13/13 [==============================] - 0s 1ms/step - loss: 179.9756\n",
      "Epoch 4/50\n",
      "13/13 [==============================] - 0s 2ms/step - loss: 133.2403\n",
      "Epoch 5/50\n",
      "13/13 [==============================] - 0s 3ms/step - loss: 115.1219\n",
      "Epoch 6/50\n",
      "13/13 [==============================] - 0s 1ms/step - loss: 101.4267\n",
      "Epoch 7/50\n",
      "13/13 [==============================] - 0s 1ms/step - loss: 93.4571\n",
      "Epoch 8/50\n",
      "13/13 [==============================] - 0s 2ms/step - loss: 85.3891\n",
      "Epoch 9/50\n",
      "13/13 [==============================] - 0s 1ms/step - loss: 81.3055\n",
      "Epoch 10/50\n",
      "13/13 [==============================] - 0s 1ms/step - loss: 76.4467\n",
      "Epoch 11/50\n",
      "13/13 [==============================] - 0s 594us/step - loss: 72.5329\n",
      "Epoch 12/50\n",
      "13/13 [==============================] - 0s 1ms/step - loss: 70.0160\n",
      "Epoch 13/50\n",
      "13/13 [==============================] - 0s 2ms/step - loss: 65.8493\n",
      "Epoch 14/50\n",
      "13/13 [==============================] - 0s 3ms/step - loss: 64.1846\n",
      "Epoch 15/50\n",
      "13/13 [==============================] - 0s 1ms/step - loss: 62.5643\n",
      "Epoch 16/50\n",
      "13/13 [==============================] - 0s 5ms/step - loss: 59.2989\n",
      "Epoch 17/50\n",
      "13/13 [==============================] - 0s 2ms/step - loss: 56.4254\n",
      "Epoch 18/50\n",
      "13/13 [==============================] - 0s 1ms/step - loss: 54.7630\n",
      "Epoch 19/50\n",
      "13/13 [==============================] - 0s 1ms/step - loss: 53.4975\n",
      "Epoch 20/50\n",
      "13/13 [==============================] - 0s 1ms/step - loss: 50.8394\n",
      "Epoch 21/50\n",
      "13/13 [==============================] - 0s 1ms/step - loss: 50.6058\n",
      "Epoch 22/50\n",
      "13/13 [==============================] - 0s 1ms/step - loss: 49.2325\n",
      "Epoch 23/50\n",
      "13/13 [==============================] - 0s 1ms/step - loss: 47.0507\n",
      "Epoch 24/50\n",
      "13/13 [==============================] - 0s 2ms/step - loss: 46.2687\n",
      "Epoch 25/50\n",
      "13/13 [==============================] - 0s 2ms/step - loss: 46.4272\n",
      "Epoch 26/50\n",
      "13/13 [==============================] - 0s 1ms/step - loss: 43.3376\n",
      "Epoch 27/50\n",
      "13/13 [==============================] - 0s 1ms/step - loss: 42.9768\n",
      "Epoch 28/50\n",
      "13/13 [==============================] - 0s 1ms/step - loss: 41.8717\n",
      "Epoch 29/50\n",
      "13/13 [==============================] - 0s 1ms/step - loss: 41.0642\n",
      "Epoch 30/50\n",
      "13/13 [==============================] - 0s 1ms/step - loss: 40.2644\n",
      "Epoch 31/50\n",
      "13/13 [==============================] - 0s 0s/step - loss: 40.2348\n",
      "Epoch 32/50\n",
      "13/13 [==============================] - 0s 0s/step - loss: 41.3918\n",
      "Epoch 33/50\n",
      "13/13 [==============================] - 0s 0s/step - loss: 38.6766\n",
      "Epoch 34/50\n",
      "13/13 [==============================] - 0s 0s/step - loss: 39.2610\n",
      "Epoch 35/50\n",
      "13/13 [==============================] - 0s 0s/step - loss: 38.5166\n",
      "Epoch 36/50\n",
      "13/13 [==============================] - 0s 0s/step - loss: 37.0323\n",
      "Epoch 37/50\n",
      "13/13 [==============================] - 0s 1ms/step - loss: 36.1591\n",
      "Epoch 38/50\n",
      "13/13 [==============================] - 0s 1ms/step - loss: 35.4313\n",
      "Epoch 39/50\n",
      "13/13 [==============================] - 0s 1ms/step - loss: 35.3991\n",
      "Epoch 40/50\n",
      "13/13 [==============================] - 0s 0s/step - loss: 35.1079\n",
      "Epoch 41/50\n",
      "13/13 [==============================] - 0s 1ms/step - loss: 34.5421\n",
      "Epoch 42/50\n",
      "13/13 [==============================] - 0s 1ms/step - loss: 34.5841\n",
      "Epoch 43/50\n",
      "13/13 [==============================] - 0s 1ms/step - loss: 34.1330\n",
      "Epoch 44/50\n",
      "13/13 [==============================] - 0s 1ms/step - loss: 34.3171\n",
      "Epoch 45/50\n",
      "13/13 [==============================] - 0s 1ms/step - loss: 35.4980\n",
      "Epoch 46/50\n",
      "13/13 [==============================] - 0s 1ms/step - loss: 36.6264\n",
      "Epoch 47/50\n",
      "13/13 [==============================] - 0s 1ms/step - loss: 35.6538\n",
      "Epoch 48/50\n",
      "13/13 [==============================] - 0s 1ms/step - loss: 33.2168\n",
      "Epoch 49/50\n",
      "13/13 [==============================] - 0s 1ms/step - loss: 32.5076\n",
      "Epoch 50/50\n",
      "13/13 [==============================] - 0s 1ms/step - loss: 33.0328\n",
      "Test loss: 29.018308639526367\n"
     ]
    }
   ],
   "source": [
    "from tensorflow.keras.models import Sequential\n",
    "from tensorflow.keras.layers import Dense\n",
    "from sklearn.model_selection import train_test_split\n",
    "\n",
    "X_train, X_test, y_train, y_test = train_test_split(X, y, test_size=0.2, random_state=42)\n",
    "model3 = Sequential()\n",
    "model3.add(Dense(64, input_dim=X_train.shape[1], activation='relu'))\n",
    "model3.add(Dense(1))\n",
    "model3.compile(loss='mse', optimizer='adam')\n",
    "model3.fit(X_train, y_train, epochs=50)\n",
    "scoreNN = model3.evaluate(X_test, y_test, verbose=0)\n",
    "print(\"Test loss:\", scoreNN)"
   ]
  },
  {
   "cell_type": "code",
   "execution_count": 3,
   "metadata": {},
   "outputs": [
    {
     "name": "stdout",
     "output_type": "stream",
     "text": [
      "WARNING:tensorflow:From c:\\Users\\Nicol\\anaconda3\\envs\\tensorflow\\lib\\site-packages\\shap\\explainers\\_deep\\deep_tf.py:243: set_learning_phase (from tensorflow.python.keras.backend) is deprecated and will be removed after 2020-10-11.\n",
      "Instructions for updating:\n",
      "Simply pass a True/False value to the `training` argument of the `__call__` method of your layer or model.\n"
     ]
    },
    {
     "name": "stderr",
     "output_type": "stream",
     "text": [
      "keras is no longer supported, please use tf.keras instead.\n"
     ]
    },
    {
     "name": "stdout",
     "output_type": "stream",
     "text": [
      "[array([[ 0.47780285,  0.28128889,  0.48389506, ...,  0.76370765,\n",
      "         2.25757417,  5.45991579],\n",
      "       [ 0.46765428, -1.03251735,  0.15420614, ...,  0.14946477,\n",
      "         2.21791389,  2.41889496],\n",
      "       [ 0.47587708, -0.89233382,  0.10929327, ...,  0.15018617,\n",
      "         1.82572221,  6.20771249],\n",
      "       ...,\n",
      "       [ 0.48392974, -0.9955729 , -0.48373333, ..., -0.65229401,\n",
      "         2.07148164,  4.9763435 ],\n",
      "       [ 0.48207998, -0.97535345, -0.47934571, ..., -0.6506236 ,\n",
      "         1.73873659,  4.35671639],\n",
      "       [ 0.49194639, -0.90907401, -0.47499652, ..., -0.65354083,\n",
      "         2.02158975,  3.33477599]])]\n"
     ]
    }
   ],
   "source": [
    "preds3 = model3.predict(X)\n",
    "explainer3 = shap.DeepExplainer(model3, X.values)\n",
    "shap_values3 = explainer3.shap_values(X.values)\n",
    "print(shap_values3)"
   ]
  },
  {
   "cell_type": "code",
   "execution_count": 4,
   "metadata": {},
   "outputs": [],
   "source": [
    "# Saving results not scaled to perform decision tree\n",
    "\n",
    "with open(\"two_models_preds_results.txt\", \"w\") as f:\n",
    "    for i in range(0, len(y)):\n",
    "        f.write(str(preds1[i]))\n",
    "        f.write(\", \")\n",
    "        f.write(str(preds3[i]))\n",
    "        f.write(\"\\n\")"
   ]
  },
  {
   "cell_type": "code",
   "execution_count": 5,
   "metadata": {},
   "outputs": [],
   "source": [
    "# Decision Tree\n",
    "\n",
    "# We create new dataset with differences in output predictions and original feature values\n",
    "import pandas as pd\n",
    "\n",
    "new_df = pd.DataFrame()\n",
    "diffs = []\n",
    "for i in range(0,len(y)):\n",
    "    diffs.append(preds1[i]-preds3[i])\n"
   ]
  },
  {
   "cell_type": "code",
   "execution_count": 6,
   "metadata": {},
   "outputs": [],
   "source": [
    "from sklearn import tree\n",
    "\n",
    "modelTree = tree.DecisionTreeRegressor(max_depth=4)\n",
    "modelTree = modelTree.fit(X, diffs)"
   ]
  },
  {
   "cell_type": "code",
   "execution_count": 7,
   "metadata": {},
   "outputs": [
    {
     "data": {
      "text/plain": [
       "array([-2.903649  , -2.903649  ,  1.56495274,  1.56495274,  1.56495274,\n",
       "       -2.903649  , -2.903649  , -2.903649  , -2.903649  , -2.903649  ,\n",
       "       -2.903649  , -2.903649  , -2.903649  , -2.903649  , -2.903649  ,\n",
       "       -2.903649  , -2.903649  , -2.903649  ,  0.42223417, -2.903649  ,\n",
       "       -2.903649  , -2.903649  , -2.903649  , -2.903649  , -2.903649  ,\n",
       "        0.42223417, -2.903649  ,  0.42223417, -2.903649  , -2.903649  ,\n",
       "        0.42223417, -2.903649  ,  0.42223417,  0.42223417,  0.42223417,\n",
       "       -2.903649  , -2.903649  , -2.903649  , -2.903649  , -2.903649  ,\n",
       "        1.56495274, -2.903649  , -2.903649  , -2.903649  , -2.903649  ,\n",
       "       -2.903649  , -2.903649  , -2.903649  , -2.903649  , -2.903649  ,\n",
       "       -2.903649  , -2.903649  , -2.903649  , -2.903649  , -2.903649  ,\n",
       "        1.56495274, -2.903649  , -2.903649  , -2.903649  , -2.903649  ,\n",
       "       -2.903649  , -2.903649  , -2.903649  , -2.903649  ,  1.56495274,\n",
       "       -2.903649  , -2.903649  , -2.903649  , -2.903649  , -2.903649  ,\n",
       "       -2.903649  , -2.903649  , -2.903649  , -2.903649  , -2.903649  ,\n",
       "       -2.903649  ,  0.42223417, -2.903649  , -2.903649  , -2.903649  ,\n",
       "       -2.903649  , -2.903649  , -2.903649  , -2.903649  , -2.903649  ,\n",
       "       -2.903649  , -2.903649  , -2.903649  ,  1.56495274,  1.56495274,\n",
       "       -2.903649  , -2.903649  , -2.903649  , -2.903649  , -2.903649  ,\n",
       "        0.42223417, -2.903649  , 11.45278212, 11.45278212,  1.56495274,\n",
       "       -2.903649  , -2.903649  ,  0.42223417, -2.903649  , -2.903649  ,\n",
       "       -2.903649  , -2.903649  , -2.903649  , -2.903649  , -2.903649  ,\n",
       "       -2.903649  , -2.903649  , -2.903649  , -2.903649  , -2.903649  ,\n",
       "        0.42223417, -2.903649  , -2.903649  ,  0.42223417, -2.903649  ,\n",
       "       -2.903649  , -2.903649  , -2.903649  ,  0.42223417, -2.903649  ,\n",
       "       -2.903649  ,  0.42223417, -2.903649  , -2.903649  , -2.903649  ,\n",
       "       -2.903649  , -2.903649  , -2.903649  , -2.903649  ,  0.42223417,\n",
       "       -2.903649  , -2.903649  , -2.903649  , -2.903649  , -2.903649  ,\n",
       "       -2.903649  , -2.903649  , -2.903649  , -2.903649  , -2.903649  ,\n",
       "        0.42223417,  0.42223417, -2.903649  ,  0.42223417,  0.42223417,\n",
       "        0.42223417,  0.42223417,  0.42223417,  0.42223417,  0.42223417,\n",
       "        0.42223417,  0.42223417, 16.91214816,  0.42223417,  0.42223417,\n",
       "        0.42223417, 17.89830671, 11.45278212, 11.45278212, -2.903649  ,\n",
       "        0.42223417, 17.89830671,  0.42223417,  0.42223417,  0.42223417,\n",
       "        0.42223417,  0.42223417, -2.903649  , -2.903649  , -2.903649  ,\n",
       "       -2.903649  , -2.903649  , -2.903649  , -2.903649  ,  1.56495274,\n",
       "        6.70570564, -2.903649  ,  1.56495274, -2.903649  , -2.903649  ,\n",
       "       -2.903649  ,  6.70570564, -2.903649  , -2.903649  ,  1.56495274,\n",
       "        1.56495274, -2.903649  ,  1.56495274, -2.903649  , -2.903649  ,\n",
       "       11.45278212,  1.56495274,  0.42223417,  1.56495274,  1.56495274,\n",
       "        1.56495274, -2.903649  , 11.45278212,  6.70570564,  6.70570564,\n",
       "       -2.903649  , -2.903649  , -2.903649  , -2.903649  , -2.903649  ,\n",
       "       -2.903649  , -2.903649  , -2.903649  , -2.903649  ,  0.42223417,\n",
       "       -2.903649  , -2.903649  , -2.903649  , -2.903649  , -2.903649  ,\n",
       "        1.56495274, -2.903649  ,  1.56495274, -2.903649  , 17.89830671,\n",
       "       17.89830671, 11.45278212,  0.42223417, 17.89830671, -2.903649  ,\n",
       "       -2.903649  ,  1.56495274, 11.45278212, 17.89830671,  0.42223417,\n",
       "       -2.903649  , -2.903649  ,  1.56495274, -2.903649  , -2.903649  ,\n",
       "        1.56495274, -2.903649  ,  0.42223417,  0.42223417,  0.42223417,\n",
       "       -2.903649  , -2.903649  , -2.903649  ,  0.42223417, -2.903649  ,\n",
       "       -2.903649  , -2.903649  ,  1.56495274, 11.45278212, -2.903649  ,\n",
       "       -2.903649  ,  6.70570564, 11.45278212,  1.56495274, -2.903649  ,\n",
       "        1.56495274, 11.45278212, 11.45278212,  1.56495274,  1.56495274,\n",
       "       -2.903649  ,  1.56495274, 17.89830671, 11.45278212, -2.903649  ,\n",
       "       -2.903649  , -2.903649  , -2.903649  ,  6.70570564, -2.903649  ,\n",
       "       -2.903649  ,  1.56495274, -2.903649  , -2.903649  , -2.903649  ,\n",
       "        6.70570564,  1.56495274, 10.05491638,  6.70570564,  1.56495274,\n",
       "       -2.903649  ,  0.42223417, -2.903649  , -2.903649  ,  0.42223417,\n",
       "       -2.903649  ,  1.56495274, -2.903649  , -2.903649  , -2.903649  ,\n",
       "       -2.903649  , -2.903649  , -2.903649  ,  0.42223417,  0.42223417,\n",
       "       -2.903649  , -2.903649  , -2.903649  ,  1.56495274,  1.56495274,\n",
       "       -2.903649  ,  1.56495274, -2.903649  , -2.903649  , -2.903649  ,\n",
       "        0.42223417, -2.903649  , -2.903649  , -2.903649  , -2.903649  ,\n",
       "       -2.903649  , -2.903649  , -2.903649  , -2.903649  , -2.903649  ,\n",
       "       -2.903649  , -2.903649  , -2.903649  , -2.903649  , -2.903649  ,\n",
       "       -2.903649  , -2.903649  , -2.903649  , -2.903649  ,  0.42223417,\n",
       "        0.42223417, -2.903649  ,  0.42223417, -2.903649  , -2.903649  ,\n",
       "       -2.903649  , -2.903649  , -2.903649  , -2.903649  , -2.903649  ,\n",
       "       -2.903649  ,  1.56495274, -2.903649  , -2.903649  ,  1.56495274,\n",
       "       -2.903649  ,  0.42223417, -2.903649  , -2.903649  ,  1.56495274,\n",
       "       -2.903649  ,  0.42223417, -2.903649  , -2.903649  , -2.903649  ,\n",
       "       -2.903649  , -2.903649  , -2.903649  , -2.903649  , -2.903649  ,\n",
       "        0.42223417,  0.42223417, -2.903649  ,  0.42223417, -7.08184814,\n",
       "        0.42223417,  0.42223417,  0.42223417, 16.91214816, 16.91214816,\n",
       "        1.56495274, 24.80677414, 24.36388397, -2.903649  ,  8.02825356,\n",
       "        1.56495274,  0.42223417, -2.903649  , -2.903649  , -2.903649  ,\n",
       "        1.56495274, -2.903649  , -2.903649  , -2.903649  ,  0.42223417,\n",
       "       -2.903649  , -2.903649  , -2.903649  ,  0.42223417, -2.903649  ,\n",
       "       -2.903649  , -2.903649  , -2.903649  , -2.903649  , -2.903649  ,\n",
       "       -2.903649  , -2.903649  , -2.903649  , -2.903649  ,  0.42223417,\n",
       "       -2.903649  , -2.903649  , -2.903649  , -2.903649  ,  0.42223417,\n",
       "       -2.903649  ,  0.42223417,  0.42223417,  0.42223417,  0.42223417,\n",
       "        0.42223417,  0.42223417,  0.42223417,  0.42223417,  0.42223417,\n",
       "        0.42223417,  0.42223417,  0.42223417,  0.42223417,  0.42223417,\n",
       "        0.42223417,  0.42223417,  0.42223417,  0.42223417,  0.42223417,\n",
       "        0.42223417,  0.42223417,  0.42223417,  0.42223417,  0.42223417,\n",
       "        0.42223417,  0.42223417,  0.42223417,  0.42223417,  0.42223417,\n",
       "        0.42223417,  0.42223417,  0.42223417,  0.42223417, -2.903649  ,\n",
       "       -2.903649  , -2.903649  , -2.903649  , -2.903649  ,  0.42223417,\n",
       "        0.42223417,  0.42223417, -2.903649  , -2.903649  ,  0.42223417,\n",
       "        0.42223417,  0.42223417, -2.903649  ,  1.56495274,  0.42223417,\n",
       "        0.42223417,  0.42223417,  0.42223417,  0.42223417, -2.903649  ,\n",
       "        0.42223417, -2.903649  , -2.903649  , -2.903649  , -2.903649  ,\n",
       "        0.42223417,  0.42223417,  0.42223417,  0.42223417, -2.903649  ,\n",
       "       -2.903649  , -2.903649  , -2.903649  ,  0.42223417,  0.42223417,\n",
       "        0.42223417, -2.903649  ,  0.42223417, -2.903649  , -2.903649  ,\n",
       "       -2.903649  , -2.903649  ,  1.56495274, -2.903649  ,  0.42223417,\n",
       "       -2.903649  , -2.903649  , -2.903649  , -2.903649  ,  0.42223417,\n",
       "        0.42223417, -2.903649  , -2.903649  , -2.903649  , -2.903649  ,\n",
       "       -2.903649  , -2.903649  , -2.903649  , -2.903649  , -2.903649  ,\n",
       "       -2.903649  , -2.903649  , -2.903649  ,  1.56495274, -2.903649  ,\n",
       "       -2.903649  ])"
      ]
     },
     "execution_count": 7,
     "metadata": {},
     "output_type": "execute_result"
    }
   ],
   "source": [
    "modelTree.predict(X)"
   ]
  },
  {
   "cell_type": "code",
   "execution_count": 8,
   "metadata": {},
   "outputs": [
    {
     "data": {
      "text/plain": [
       "[Text(0.5595238095238095, 0.9, 'X[5] <= 7.437\\nsquared_error = 30.913\\nsamples = 506\\nvalue = -0.644'),\n",
       " Text(0.2619047619047619, 0.7, 'X[7] <= 1.172\\nsquared_error = 21.565\\nsamples = 476\\nvalue = -1.379'),\n",
       " Text(0.09523809523809523, 0.5, 'X[5] <= 5.007\\nsquared_error = 60.952\\nsamples = 3\\nvalue = 19.066'),\n",
       " Text(0.047619047619047616, 0.3, 'squared_error = 0.0\\nsamples = 1\\nvalue = 8.028'),\n",
       " Text(0.14285714285714285, 0.3, 'X[11] <= 357.015\\nsquared_error = 0.049\\nsamples = 2\\nvalue = 24.585'),\n",
       " Text(0.09523809523809523, 0.1, 'squared_error = 0.0\\nsamples = 1\\nvalue = 24.364'),\n",
       " Text(0.19047619047619047, 0.1, 'squared_error = 0.0\\nsamples = 1\\nvalue = 24.807'),\n",
       " Text(0.42857142857142855, 0.5, 'X[11] <= 375.695\\nsquared_error = 18.648\\nsamples = 473\\nvalue = -1.509'),\n",
       " Text(0.3333333333333333, 0.3, 'X[12] <= 4.665\\nsquared_error = 25.772\\nsamples = 123\\nvalue = 0.824'),\n",
       " Text(0.2857142857142857, 0.1, 'squared_error = 14.238\\nsamples = 3\\nvalue = 16.912'),\n",
       " Text(0.38095238095238093, 0.1, 'squared_error = 19.428\\nsamples = 120\\nvalue = 0.422'),\n",
       " Text(0.5238095238095238, 0.3, 'X[5] <= 6.872\\nsquared_error = 13.558\\nsamples = 350\\nvalue = -2.329'),\n",
       " Text(0.47619047619047616, 0.1, 'squared_error = 10.432\\nsamples = 305\\nvalue = -2.904'),\n",
       " Text(0.5714285714285714, 0.1, 'squared_error = 17.34\\nsamples = 45\\nvalue = 1.565'),\n",
       " Text(0.8571428571428571, 0.7, 'X[0] <= 2.742\\nsquared_error = 34.447\\nsamples = 30\\nvalue = 11.026'),\n",
       " Text(0.8095238095238095, 0.5, 'X[11] <= 385.48\\nsquared_error = 23.938\\nsamples = 29\\nvalue = 11.651'),\n",
       " Text(0.7142857142857143, 0.3, 'X[3] <= 0.5\\nsquared_error = 9.295\\nsamples = 8\\nvalue = 16.918'),\n",
       " Text(0.6666666666666666, 0.1, 'squared_error = 2.933\\nsamples = 7\\nvalue = 17.898'),\n",
       " Text(0.7619047619047619, 0.1, 'squared_error = 0.0\\nsamples = 1\\nvalue = 10.055'),\n",
       " Text(0.9047619047619048, 0.3, 'X[9] <= 249.5\\nsquared_error = 14.922\\nsamples = 21\\nvalue = 9.644'),\n",
       " Text(0.8571428571428571, 0.1, 'squared_error = 12.994\\nsamples = 8\\nvalue = 6.706'),\n",
       " Text(0.9523809523809523, 0.1, 'squared_error = 7.524\\nsamples = 13\\nvalue = 11.453'),\n",
       " Text(0.9047619047619048, 0.5, 'squared_error = 0.0\\nsamples = 1\\nvalue = -7.082')]"
      ]
     },
     "execution_count": 8,
     "metadata": {},
     "output_type": "execute_result"
    },
    {
     "data": {
      "image/png": "[encoded data removed]",
      "text/plain": [
       "<Figure size 432x288 with 1 Axes>"
      ]
     },
     "metadata": {
      "needs_background": "light"
     },
     "output_type": "display_data"
    }
   ],
   "source": [
    "tree.plot_tree(modelTree)"
   ]
  },
  {
   "cell_type": "code",
   "execution_count": 9,
   "metadata": {},
   "outputs": [
    {
     "name": "stdout",
     "output_type": "stream",
     "text": [
      "0.5807085270097491\n"
     ]
    }
   ],
   "source": [
    "score = modelTree.score(X, diffs)\n",
    "print(score)"
   ]
  },
  {
   "cell_type": "code",
   "execution_count": 10,
   "metadata": {},
   "outputs": [],
   "source": [
    "import numpy as np\n",
    "\n",
    "max_y = max(y)\n",
    "for i in range(0, len(y)):\n",
    "    preds1[i] = preds1[i] / max_y\n",
    "    preds3[i] = preds3[i] / max_y\n",
    "\n",
    "with open(\"two_models_preds_shaps.txt\", \"w\") as f:\n",
    "    for i in range(0, len(y)):\n",
    "        f.write(str(preds1[i]))\n",
    "        f.write(\", \")\n",
    "        f.write(str(preds3[i]))\n",
    "        f.write(\", \")\n",
    "        tmp_lst1 = []\n",
    "        tmp_lst2 = []\n",
    "        for j in range(0, len(shap_values1[i].values)):\n",
    "            tmp_lst1.append(str(shap_values1[i].values[j]))\n",
    "            tmp_lst1.append(\", \")\n",
    "        tmp_strng1 = ''.join(tmp_lst1)\n",
    "        f.write(tmp_strng1)\n",
    "        tmp_lst3 = []\n",
    "        for j in range(0, len(shap_values3[0][i])):\n",
    "            tmp_lst3.append(str(shap_values3[0][i][j]))\n",
    "            tmp_lst3.append(\", \")\n",
    "        tmp_strng3 = ''.join(tmp_lst3)\n",
    "        nw_ts3 = tmp_strng3[:-2]\n",
    "        f.write(nw_ts3)\n",
    "        f.write(\"\\n\")"
   ]
  },
  {
   "attachments": {},
   "cell_type": "markdown",
   "metadata": {},
   "source": [
    "CLUSTERING ON DIFFERENCES OF SHAP VALUES"
   ]
  },
  {
   "cell_type": "code",
   "execution_count": 11,
   "metadata": {},
   "outputs": [],
   "source": [
    "import matplotlib.pyplot as plt\n",
    "from sklearn.cluster import KMeans\n",
    "from sklearn.metrics import silhouette_score\n",
    "from sklearn.preprocessing import StandardScaler"
   ]
  },
  {
   "cell_type": "code",
   "execution_count": 12,
   "metadata": {},
   "outputs": [],
   "source": [
    "N = len(X)\n",
    "scaler = StandardScaler()\n",
    "scaled_features = scaler.fit_transform(X)"
   ]
  },
  {
   "cell_type": "code",
   "execution_count": 13,
   "metadata": {},
   "outputs": [],
   "source": [
    "shap_diffs = []\n",
    "for i in range(0, len(y)):\n",
    "    cur_shaps = []\n",
    "    for j in range(0,len(shap_values1[i].values)):\n",
    "        cur_d = shap_values1[i].values[j] - shap_values3[0][i][j]\n",
    "        cur_shaps.append(cur_d)\n",
    "    shap_diffs.append(cur_shaps)"
   ]
  },
  {
   "cell_type": "code",
   "execution_count": 14,
   "metadata": {},
   "outputs": [],
   "source": [
    "df = pd.DataFrame(shap_diffs)\n",
    "feature_names = list(X.columns)\n",
    "df.columns = feature_names"
   ]
  },
  {
   "cell_type": "code",
   "execution_count": 15,
   "metadata": {},
   "outputs": [],
   "source": [
    "# Load libraries and modules\n",
    "import pandas as pd\n",
    "from sklearn import preprocessing\n",
    "import numpy as np\n",
    "from numpy import linalg as LA\n",
    "import matplotlib.pyplot as plt\n",
    "from scipy.spatial.distance import cdist\n",
    "from sklearn.linear_model import LinearRegression\n",
    "from sklearn.metrics.cluster import normalized_mutual_info_score\n",
    "import os\n",
    "from sklearn.decomposition import PCA\n",
    "from sklearn.cluster import KMeans"
   ]
  },
  {
   "cell_type": "code",
   "execution_count": 16,
   "metadata": {},
   "outputs": [
    {
     "name": "stdout",
     "output_type": "stream",
     "text": [
      "For n_clusters = 2 The average silhouette_score is : 0.41085514360893144\n",
      "For n_clusters = 3 The average silhouette_score is : 0.4503266486205464\n",
      "For n_clusters = 4 The average silhouette_score is : 0.2803091778351417\n",
      "For n_clusters = 5 The average silhouette_score is : 0.2889569763227907\n",
      "For n_clusters = 6 The average silhouette_score is : 0.3016102130323658\n",
      "For n_clusters = 7 The average silhouette_score is : 0.29597720033047276\n",
      "For n_clusters = 8 The average silhouette_score is : 0.3040829838287232\n",
      "For n_clusters = 9 The average silhouette_score is : 0.28632630685090493\n",
      "For n_clusters = 10 The average silhouette_score is : 0.28332020741777725\n",
      "For n_clusters = 11 The average silhouette_score is : 0.2580965507404667\n",
      "For n_clusters = 12 The average silhouette_score is : 0.2062861747173113\n",
      "For n_clusters = 13 The average silhouette_score is : 0.21182542678824998\n",
      "For n_clusters = 14 The average silhouette_score is : 0.2346881683063135\n",
      "For n_clusters = 15 The average silhouette_score is : 0.2279077223948215\n",
      "For n_clusters = 16 The average silhouette_score is : 0.2157000946418943\n",
      "For n_clusters = 17 The average silhouette_score is : 0.22046598699545691\n",
      "For n_clusters = 18 The average silhouette_score is : 0.20959101295897514\n",
      "For n_clusters = 19 The average silhouette_score is : 0.20666527274818955\n",
      "Optimal number of clusters = 3\n"
     ]
    }
   ],
   "source": [
    "from sklearn.metrics import silhouette_score\n",
    "\n",
    "# Extract the features into X\n",
    "X1 = df.iloc[:, 1:].values\n",
    "\n",
    "# Calculate the silhouette score for different numbers of clusters\n",
    "scores = []\n",
    "for n_clusters in range(2, 20):\n",
    "    clusterer = KMeans(n_clusters=n_clusters)\n",
    "    cluster_labels = clusterer.fit_predict(X1)\n",
    "    silhouette_avg = silhouette_score(X1, cluster_labels)\n",
    "    scores.append(silhouette_avg)\n",
    "    print(\"For n_clusters =\", n_clusters,\n",
    "          \"The average silhouette_score is :\", silhouette_avg)\n",
    "\n",
    "# Find the optimal number of clusters\n",
    "optimal_n_clusters = np.argmax(scores) + 2\n",
    "print(\"Optimal number of clusters =\", optimal_n_clusters)\n"
   ]
  },
  {
   "cell_type": "code",
   "execution_count": 17,
   "metadata": {},
   "outputs": [
    {
     "name": "stdout",
     "output_type": "stream",
     "text": [
      "[[-2.73260811e-02 -8.47362761e-01 -3.88768633e-01 -6.34224078e-02\n",
      "   3.59458884e-01  8.02439088e+00  8.75365640e-01  1.63267763e-01\n",
      "  -2.42912270e-01 -1.76555170e-01 -5.02230471e-04 -1.35920672e+00\n",
      "   1.63423650e+00]\n",
      " [ 5.57248790e-01  2.26299972e-01 -2.43739518e-02  6.54471866e-02\n",
      "  -3.73448693e-01 -1.08169415e+00 -1.82289692e+00  4.00282660e-01\n",
      "   4.81036997e-01 -3.56071598e+00 -5.12753601e-02  7.06678635e+00\n",
      "  -2.11975748e-01]\n",
      " [ 4.87056085e-02  8.23610121e-02  2.01756144e-02  2.99395826e-03\n",
      "   8.24826118e-02 -1.36964356e+00  2.83283155e-03  2.83345832e-01\n",
      "  -7.89417089e-02  6.09410059e-01  4.39153862e-02 -1.03892395e+00\n",
      "  -1.51694724e-01]]\n"
     ]
    }
   ],
   "source": [
    "kmeans = KMeans(n_clusters=optimal_n_clusters)\n",
    "kmeans.fit(df)\n",
    "labels=kmeans.labels_\n",
    "df['cluster'] = labels\n",
    "print(kmeans.cluster_centers_)"
   ]
  },
  {
   "cell_type": "code",
   "execution_count": 18,
   "metadata": {},
   "outputs": [
    {
     "name": "stdout",
     "output_type": "stream",
     "text": [
      "         CRIM        ZN     INDUS      CHAS       NOX        RM       AGE  \\\n",
      "0   -0.906305 -0.347926 -0.406035  0.093211 -0.725039 -2.250141  0.472806   \n",
      "1   -0.627132  0.993308 -0.250756  0.096263  0.192277 -1.788417 -0.970699   \n",
      "2   -0.538137  0.853093 -0.272818  0.094137  0.638921  3.685840  0.781981   \n",
      "3   -0.221020  0.991329 -0.601322  0.095174  0.556348  1.391648  1.597967   \n",
      "4    0.177002  1.055188 -0.617125  0.092135  0.380359  4.185760  1.398744   \n",
      "..        ...       ...       ...       ...       ...       ...       ...   \n",
      "501 -0.188562  0.691281  0.387701  0.106843  0.091480 -0.613235 -0.124533   \n",
      "502 -0.564066  0.879547  0.435332  0.089954 -0.024866 -2.271273 -0.674035   \n",
      "503 -0.830855  0.994438  0.384983  0.091242  0.178599  2.764246 -2.658679   \n",
      "504 -0.127097  0.960885  0.395377  0.099946  0.041710 -0.031740 -2.470430   \n",
      "505 -1.418787  0.906492  0.215141  0.080533 -0.225012 -4.353392 -2.293379   \n",
      "\n",
      "          DIS       RAD       TAX   PTRATIO         B     LSTAT  cluster  \n",
      "0   -0.404281 -1.063972  0.613559 -0.507013 -2.311481  0.328409        2  \n",
      "1   -0.616287 -0.529628  1.232126  0.310724 -2.216623 -0.871018        2  \n",
      "2   -0.621951 -0.505943  2.174393 -0.114072 -1.615877  1.707462        0  \n",
      "3   -0.449428 -0.419296  0.944605 -0.061360 -1.984441  0.848533        2  \n",
      "4    0.377037 -0.408126  1.574280 -0.056121 -2.158426  0.312025        0  \n",
      "..        ...       ...       ...       ...       ...       ...      ...  \n",
      "501  0.016227 -1.140692  2.644848 -0.768078 -1.621456 -0.167951        2  \n",
      "502  0.664749 -0.695614  2.249439 -0.803224 -2.038850 -1.040860        2  \n",
      "503  0.031599 -0.936044  1.819415 -1.453664 -2.158419 -2.955395        2  \n",
      "504 -0.314041 -1.168982  2.018807 -1.019531 -1.643914 -2.001797        2  \n",
      "505 -0.493357 -1.098589  2.010924 -1.273109 -2.332229 -3.268458        2  \n",
      "\n",
      "[506 rows x 14 columns]\n"
     ]
    }
   ],
   "source": [
    "print(df)"
   ]
  },
  {
   "cell_type": "code",
   "execution_count": 19,
   "metadata": {},
   "outputs": [
    {
     "name": "stderr",
     "output_type": "stream",
     "text": [
      "The default initialization in TSNE will change from 'random' to 'pca' in 1.2.\n",
      "The default learning rate in TSNE will change from 200.0 to 'auto' in 1.2.\n"
     ]
    },
    {
     "data": {
      "text/plain": [
       "<AxesSubplot:xlabel='tsne1', ylabel='tsne2'>"
      ]
     },
     "execution_count": 19,
     "metadata": {},
     "output_type": "execute_result"
    },
    {
     "data": {
      "image/png": "[encoded data removed]",
      "text/plain": [
       "<Figure size 432x288 with 1 Axes>"
      ]
     },
     "metadata": {
      "needs_background": "light"
     },
     "output_type": "display_data"
    }
   ],
   "source": [
    "# t-SNE and scatterplot on original dataset, coloring it basing on cluster beloning\n",
    "\n",
    "from sklearn.manifold import TSNE\n",
    "import seaborn as sns\n",
    "\n",
    "tsne = TSNE(n_components=2)\n",
    "X_tsne = tsne.fit_transform(X)\n",
    "\n",
    "df2 = pd.DataFrame(X_tsne, columns=['tsne1','tsne2'])\n",
    "df2['label'] = y\n",
    "df2['cluster'] = df['cluster']\n",
    "\n",
    "sns.scatterplot(data=df2, x='tsne1', y='tsne2', hue='cluster', palette='bright')\n"
   ]
  },
  {
   "cell_type": "code",
   "execution_count": 20,
   "metadata": {},
   "outputs": [
    {
     "name": "stdout",
     "output_type": "stream",
     "text": [
      "         tsne1      tsne2  label  cluster\n",
      "0    -5.985981 -18.982468   24.0        2\n",
      "1   -21.094858  -5.223569   21.6        2\n",
      "2   -19.880117  -4.513474   34.7        0\n",
      "3   -19.683243  -2.165659   33.4        2\n",
      "4   -20.375982  -2.435800   36.2        0\n",
      "..         ...        ...    ...      ...\n",
      "501 -10.494150 -16.719791   22.4        2\n",
      "502 -11.539647 -16.827658   20.6        2\n",
      "503 -12.970198 -16.576031   23.9        2\n",
      "504 -12.833033 -16.647923   22.0        2\n",
      "505 -12.010520 -16.757193   11.9        2\n",
      "\n",
      "[506 rows x 4 columns]\n"
     ]
    }
   ],
   "source": [
    "print(df2)"
   ]
  },
  {
   "cell_type": "code",
   "execution_count": 21,
   "metadata": {},
   "outputs": [
    {
     "name": "stdout",
     "output_type": "stream",
     "text": [
      "2    384\n",
      "1     65\n",
      "0     57\n",
      "Name: cluster, dtype: int64\n"
     ]
    }
   ],
   "source": [
    "counts = df2['cluster'].value_counts()\n",
    "print(counts)"
   ]
  }
 ],
 "metadata": {
  "kernelspec": {
   "display_name": "tensorflow",
   "language": "python",
   "name": "python3"
  },
  "language_info": {
   "codemirror_mode": {
    "name": "ipython",
    "version": 3
   },
   "file_extension": ".py",
   "mimetype": "text/x-python",
   "name": "python",
   "nbconvert_exporter": "python",
   "pygments_lexer": "ipython3",
   "version": "3.7.13"
  },
  "orig_nbformat": 4
 },
 "nbformat": 4,
 "nbformat_minor": 2
}
